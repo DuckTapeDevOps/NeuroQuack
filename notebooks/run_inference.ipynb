{
 "cells": [
  {
   "cell_type": "code",
   "execution_count": null,
   "metadata": {},
   "outputs": [],
   "source": [
    "from sagemaker.predictor import Predictor\n",
    "from sagemaker.serializers import JSONSerializer\n",
    "from sagemaker.deserializers import BytesDeserializer\n",
    "import sagemaker\n",
    "import io\n",
    "from PIL import Image\n",
    "\n",
    "\n",
    "sagemaker_session_bucket = \"sagemak-develop-outputbucket-2c3p\"\n",
    "sess = sagemaker.Session(default_bucket=sagemaker_session_bucket)\n",
    "\n",
    "# Create a predictor with proper serializers\n",
    "deployed_model = Predictor(\n",
    "    endpoint_name=\"sdxl-v1-2023-11-03-16-49-28-603-endpoint\", \n",
    "    sagemaker_session=sess,\n",
    "    serializer=JSONSerializer(),\n",
    "    deserializer=BytesDeserializer(accept=\"image/png\")\n",
    "\n",
    ")"
   ]
  },
  {
   "cell_type": "code",
   "execution_count": null,
   "metadata": {},
   "outputs": [],
   "source": [
    "# Helper to display images\n",
    "def decode_and_show(model_response) -> None:\n",
    "    \"\"\"\n",
    "    Decodes and displays an image from SDXL output\n",
    "\n",
    "    Args:\n",
    "        model_response (GenerationResponse): The response object from the deployed SDXL model.\n",
    "\n",
    "    Returns:\n",
    "        None\n",
    "    \"\"\"        \n",
    "    image = Image.open(io.BytesIO(model_response))\n",
    "    display(image)"
   ]
  },
  {
   "cell_type": "code",
   "execution_count": null,
   "metadata": {},
   "outputs": [],
   "source": [
    "output = deployed_model.predict({\"text_prompts\":[{\"text\": \"jaguar in the Amazon rainforest\"}],                                             \n",
    "                                             \"seed\": 133,\n",
    "                                            \"width\": 1024,\n",
    "                                            \"height\": 1024})\n",
    "decode_and_show(output)"
   ]
  }
 ],
 "metadata": {
  "language_info": {
   "name": "python"
  }
 },
 "nbformat": 4,
 "nbformat_minor": 2
}
